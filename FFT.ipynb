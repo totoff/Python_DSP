{
 "cells": [
  {
   "cell_type": "code",
   "execution_count": 4,
   "metadata": {},
   "outputs": [],
   "source": [
    "import math\n",
    "import numpy\n",
    "\n",
    "def inversionBits(q,k):\n",
    "    m = 0\n",
    "    i = k\n",
    "    for b in range(q):\n",
    "        m = m|(i&1)\n",
    "        m = m<<1\n",
    "        i = i>>1\n",
    "    m = m>>1\n",
    "    return m\n",
    "\n",
    "def rangerInversionBits(q,x,y):\n",
    "    N = 2**q\n",
    "    for k in range(N):\n",
    "        m = inversionBits(q,k)\n",
    "        y[m] = x[k]\n",
    "\n",
    "def etapeFFT(x,y,q,e):\n",
    "    ne = 2**e\n",
    "    nem1 = int(ne/2)\n",
    "    for k in range(1,nem1):\n",
    "        phi = 2*math.pi*k/ne\n",
    "        W = math.cos(phi)+math.sin(phi)*1j\n",
    "        for i in range(2**(q-e)): # boucle sur les paquets de ne termes\n",
    "            h = i*ne # premier indice du paquet\n",
    "            y[h+k] = x[h+k]+W*x[h+k+nem1]\n",
    "            y[h+ne-k] = x[h+ne-k-nem1]+W.conjugate()*x[h+ne-k]\n",
    "    for i in range(2**(q-e)):\n",
    "        h = i*ne\n",
    "        y[h] = x[h]+x[h+nem1]\n",
    "        y[h+nem1] = x[h]-x[h+nem1]\n",
    "\n",
    "def fft1(u,q):\n",
    "    x = numpy.array(u,dtype=complex)\n",
    "    y = numpy.zeros(2**q,dtype=complex)\n",
    "    rangerInversionBits(q,x,y)\n",
    "    z = x\n",
    "    x = y\n",
    "    y = z\n",
    "    for e in range(1,q+1):\n",
    "        etapeFFT(x,y,q,e)\n",
    "        z = x\n",
    "        x = y\n",
    "        y = z\n",
    "    return x"
   ]
  },
  {
   "cell_type": "code",
   "execution_count": 8,
   "metadata": {},
   "outputs": [],
   "source": [
    "q = 4\n",
    "N = 2**q\n",
    "u = numpy.zeros(N,dtype=complex)\n",
    "#i = numpy.zeros(N,dtype=int)\n",
    "for k in range(N):\n",
    "    #i[k] = k\n",
    "    u[k] = math.sin(2*math.pi*k/N)+0.5*math.sin(4*math.pi*k/N)+0.25*math.cos(10*math.pi*k/N)\n",
    "tfd = fft1(u,q)"
   ]
  },
  {
   "cell_type": "code",
   "execution_count": 9,
   "metadata": {},
   "outputs": [
    {
     "data": {
      "text/plain": [
       "<StemContainer object of 3 artists>"
      ]
     },
     "execution_count": 9,
     "metadata": {},
     "output_type": "execute_result"
    },
    {
     "data": {
      "image/png": "[encoded data removed]",
      "text/plain": [
       "<Figure size 720x288 with 1 Axes>"
      ]
     },
     "metadata": {},
     "output_type": "display_data"
    }
   ],
   "source": [
    "from pylab import *\n",
    "spectre = numpy.absolute(tfd)\n",
    "figure(figsize=(10,4))\n",
    "stem(i,spectre,'r')"
   ]
  },
  {
   "cell_type": "code",
   "execution_count": null,
   "metadata": {},
   "outputs": [],
   "source": []
  }
 ],
 "metadata": {
  "kernelspec": {
   "display_name": "Python 3",
   "language": "python",
   "name": "python3"
  },
  "language_info": {
   "codemirror_mode": {
    "name": "ipython",
    "version": 3
   },
   "file_extension": ".py",
   "mimetype": "text/x-python",
   "name": "python",
   "nbconvert_exporter": "python",
   "pygments_lexer": "ipython3",
   "version": "3.6.5"
  }
 },
 "nbformat": 4,
 "nbformat_minor": 2
}
